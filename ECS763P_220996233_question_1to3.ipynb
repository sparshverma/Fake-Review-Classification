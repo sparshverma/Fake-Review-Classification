{
  "nbformat": 4,
  "nbformat_minor": 0,
  "metadata": {
    "colab": {
      "provenance": []
    },
    "kernelspec": {
      "name": "python3",
      "display_name": "Python 3"
    },
    "language_info": {
      "name": "python"
    }
  },
  "cells": [
    {
      "cell_type": "code",
      "execution_count": 1,
      "metadata": {
        "id": "3BrvQ8v1nztO"
      },
      "outputs": [],
      "source": [
        "import csv                               # csv reader\n",
        "from sklearn.svm import LinearSVC\n",
        "from nltk.classify import SklearnClassifier\n",
        "from nltk.stem.porter import PorterStemmer\n",
        "from nltk.stem import WordNetLemmatizer\n",
        "from IPython.display import display\n",
        "from nltk.corpus import stopwords\n",
        "from random import shuffle\n",
        "from sklearn.pipeline import Pipeline\n",
        "from sklearn.metrics import precision_recall_fscore_support, accuracy_score\n",
        "from collections import Counter\n",
        "import numpy\n",
        "import string"
      ]
    },
    {
      "cell_type": "code",
      "execution_count": 2,
      "metadata": {
        "id": "vN0tdy3-nztP"
      },
      "outputs": [],
      "source": [
        "# load data from a file and append it to the rawData\n",
        "def loadData(path, Text=None):\n",
        "    with open(path, encoding=\"utf8\") as f:\n",
        "        reader = csv.reader(f, delimiter='\\t')\n",
        "        next(reader, None)\n",
        "        for line in reader:\n",
        "            (Id, Text, Rating, Verified, ProductID, Label) = parseReview(line)\n",
        "            rawData.append((Id, Text, Rating, Verified, ProductID, Label))\n",
        "            preprocessedData.append((Id, preProcess(Text, Rating, Verified, ProductID), Label))\n",
        "\n",
        "def splitData(percentage):\n",
        "    dataSamples = len(rawData)\n",
        "    halfOfData = int(len(rawData)/2)\n",
        "    trainingSamples = int((percentage*dataSamples)/2)\n",
        "    for (_, Text, Rating, Verified, ProductID, Label) in rawData[:trainingSamples] + rawData[halfOfData:halfOfData+trainingSamples]:\n",
        "        trainData.append((toFeatureVector(preProcess(Text, Rating, Verified, ProductID)),Label))\n",
        "    for (_, Text, Rating, Verified, ProductID, Label) in rawData[trainingSamples:halfOfData] + rawData[halfOfData+trainingSamples:]:\n",
        "        testData.append((toFeatureVector(preProcess(Text, Rating, Verified, ProductID)),Label))"
      ]
    },
    {
      "cell_type": "markdown",
      "metadata": {
        "id": "c4Awr0vQnztQ"
      },
      "source": [
        "# Question 1"
      ]
    },
    {
      "cell_type": "code",
      "execution_count": 3,
      "metadata": {
        "id": "uTKlFv4ynztQ"
      },
      "outputs": [],
      "source": [
        "# Convert line from input file into an id/text/label tuple\n",
        "def parseReview(reviewLine):\n",
        "  ID = 0\n",
        "  TEXT = 8\n",
        "  LABEL = 1\n",
        "  RATING = 2\n",
        "  VERIFIED_PURCHASE = 3\n",
        "  PRODUCT_ID = 5\n",
        "  tuple = (int(reviewLine[ID]), reviewLine[TEXT], int(reviewLine[RATING]), True if reviewLine[VERIFIED_PURCHASE] == 'Y' else False, reviewLine[PRODUCT_ID], fakeLabel if reviewLine[LABEL]=='__label1__' else realLabel)\n",
        "  return tuple\n",
        "    # Should return a triple of an integer, a string containing the review, and a string indicating the label\n",
        "    # DESCRIBE YOUR METHOD IN WORDS\n",
        "    # return (None, None, None)"
      ]
    },
    {
      "cell_type": "code",
      "execution_count": 4,
      "metadata": {
        "id": "L9o_JM88nztR"
      },
      "outputs": [],
      "source": [
        "# TEXT PREPROCESSING AND FEATURE VECTORIZATION\n",
        "\n",
        "# Input: a string of one review\n",
        "def preProcess(text, rating, verified, product_id):\n",
        "    # Should return a list of tokens\n",
        "    tokens = text.split(\" \")\n",
        "\n",
        "    # Stemming and lemmatisation\n",
        "    porter_stemmer = PorterStemmer()\n",
        "    wordnet_lemmatizer = WordNetLemmatizer()\n",
        "\n",
        "\n",
        "    # Removing the stop word. You will need to run nltk.download(\"stopwords\") in python console.\n",
        "    stop_words = set(stopwords.words('english'))\n",
        "    filtered_tokens = [w for w in tokens if not w in stop_words]\n",
        "    filtered_tokens = []\n",
        "    for w in tokens:\n",
        "        if w not in stop_words:\n",
        "            filtered_tokens.append(w)\n",
        "\n",
        "    filtered_tokens = list(map(lambda x : porter_stemmer.stem(wordnet_lemmatizer.lemmatize(x)), filtered_tokens))\n",
        "    filtered_tokens = list(map(lambda x : x.translate(string.punctuation), filtered_tokens))\n",
        "\n",
        "    return (filtered_tokens, rating, verified, product_id)\n",
        "    # Should return a list of tokens\n",
        "    # DESCRIBE YOUR METHOD IN WORDS\n",
        "    # return []"
      ]
    },
    {
      "cell_type": "markdown",
      "metadata": {
        "id": "dtj0U6S9nztR"
      },
      "source": [
        "# Question 2"
      ]
    },
    {
      "cell_type": "code",
      "execution_count": 5,
      "metadata": {
        "id": "onWAN4N0nztR"
      },
      "outputs": [],
      "source": [
        "featureDict = {} # A global dictionary of features\n",
        "\n",
        "def toFeatureVector(tokens):\n",
        "  featurevect = dict(Counter(tokens[0]))\n",
        "  featurevect['rating'] = tokens[1]\n",
        "  featurevect['verified'] = int(tokens[2])\n",
        "  featurevect[tokens[3]] = 1\n",
        "  return featurevect\n",
        "    # Should return a dictionary containing features as keys, and weights as values\n",
        "    # DESCRIBE YOUR METHOD IN WORDS"
      ]
    },
    {
      "cell_type": "code",
      "execution_count": 6,
      "metadata": {
        "id": "Jat5f7hunztR"
      },
      "outputs": [],
      "source": [
        "# TRAINING AND VALIDATING OUR CLASSIFIER\n",
        "def trainClassifier(trainData):\n",
        "    print(\"Training Classifier...\")\n",
        "    pipeline =  Pipeline([('svc', LinearSVC())])\n",
        "    return SklearnClassifier(pipeline).train(trainData)"
      ]
    },
    {
      "cell_type": "markdown",
      "metadata": {
        "id": "gOOMwGBAnztR"
      },
      "source": [
        "# Question 3"
      ]
    },
    {
      "cell_type": "code",
      "execution_count": 7,
      "metadata": {
        "id": "j7jSXQqenztR"
      },
      "outputs": [],
      "source": [
        "def crossValidate(dataset, folds):\n",
        "    shuffle(dataset)\n",
        "    cv_results = []\n",
        "    foldSize = int(len(dataset)/folds)\n",
        "    # DESCRIBE YOUR METHOD IN WORDS\n",
        "    for i in range(0,len(dataset),foldSize):\n",
        "       testFold = dataset[i:i+foldSize] # This our fold used for testing.\n",
        "       trainingData = dataset[0:i] + dataset[foldSize:]\n",
        "       classifier = trainClassifier(trainingData)\n",
        "       y_pred = predictLabels(testFold, classifier)\n",
        "       y_true = list(map(lambda t: t[1], testFold))\n",
        "       results = list(precision_recall_fscore_support(y_true, y_pred, average='weighted'))\n",
        "       results[3] = accuracy_score(y_true, y_pred) * 100\n",
        "       cv_results.append(tuple(results))\n",
        "\n",
        "    return cv_results"
      ]
    },
    {
      "cell_type": "code",
      "execution_count": 8,
      "metadata": {
        "id": "l_7o40sJnztR"
      },
      "outputs": [],
      "source": [
        "# PREDICTING LABELS GIVEN A CLASSIFIER\n",
        "\n",
        "def predictLabels(reviewSamples, classifier):\n",
        "    return classifier.classify_many(map(lambda t: t[0], reviewSamples))\n",
        "\n",
        "def predictLabel(reviewSample, classifier):\n",
        "    return classifier.classify(toFeatureVector(preProcess(reviewSample)))"
      ]
    },
    {
      "cell_type": "code",
      "source": [
        "import nltk\n",
        "import re\n",
        "from nltk.tokenize import word_tokenize\n",
        "\n",
        "# Run this once\n",
        "nltk.download('stopwords')\n",
        "nltk.download('punkt')\n",
        "porter_stemmer = PorterStemmer()\n",
        "wordnet_lemmatizer = WordNetLemmatizer()\n",
        "stop_words = set(stopwords.words('english'))\n",
        "nltk.download('stopwords')\n",
        "nltk.download('wordnet')"
      ],
      "metadata": {
        "colab": {
          "base_uri": "https://localhost:8080/"
        },
        "id": "fXa0VSQ7sbB3",
        "outputId": "78ed0be1-a895-4b23-f8dd-4d208c69b7cb"
      },
      "execution_count": 9,
      "outputs": [
        {
          "output_type": "stream",
          "name": "stderr",
          "text": [
            "[nltk_data] Downloading package stopwords to /root/nltk_data...\n",
            "[nltk_data]   Unzipping corpora/stopwords.zip.\n",
            "[nltk_data] Downloading package punkt to /root/nltk_data...\n",
            "[nltk_data]   Unzipping tokenizers/punkt.zip.\n",
            "[nltk_data] Downloading package stopwords to /root/nltk_data...\n",
            "[nltk_data]   Package stopwords is already up-to-date!\n",
            "[nltk_data] Downloading package wordnet to /root/nltk_data...\n"
          ]
        },
        {
          "output_type": "execute_result",
          "data": {
            "text/plain": [
              "True"
            ]
          },
          "metadata": {},
          "execution_count": 9
        }
      ]
    },
    {
      "cell_type": "code",
      "execution_count": 11,
      "metadata": {
        "colab": {
          "base_uri": "https://localhost:8080/",
          "height": 886
        },
        "id": "IDjRgw6YnztS",
        "outputId": "1e9a51e4-fe84-4e84-a33f-41f31768e933"
      },
      "outputs": [
        {
          "output_type": "stream",
          "name": "stdout",
          "text": [
            "Now 0 rawData, 0 trainData, 0 testData\n",
            "Preparing the dataset...\n",
            "Now 21000 rawData, 0 trainData, 0 testData\n",
            "Preparing training and test data...\n",
            "After split, 21000 rawData, 16800 trainData, 4200 testData\n",
            "Training Samples: \n",
            "16800\n",
            "Features: \n",
            "0\n",
            "Training Classifier...\n",
            "Training Classifier...\n",
            "Training Classifier...\n"
          ]
        },
        {
          "output_type": "stream",
          "name": "stderr",
          "text": [
            "/usr/local/lib/python3.10/dist-packages/sklearn/svm/_base.py:1244: ConvergenceWarning: Liblinear failed to converge, increase the number of iterations.\n",
            "  warnings.warn(\n"
          ]
        },
        {
          "output_type": "stream",
          "name": "stdout",
          "text": [
            "Training Classifier...\n"
          ]
        },
        {
          "output_type": "stream",
          "name": "stderr",
          "text": [
            "/usr/local/lib/python3.10/dist-packages/sklearn/svm/_base.py:1244: ConvergenceWarning: Liblinear failed to converge, increase the number of iterations.\n",
            "  warnings.warn(\n"
          ]
        },
        {
          "output_type": "stream",
          "name": "stdout",
          "text": [
            "Training Classifier...\n"
          ]
        },
        {
          "output_type": "stream",
          "name": "stderr",
          "text": [
            "/usr/local/lib/python3.10/dist-packages/sklearn/svm/_base.py:1244: ConvergenceWarning: Liblinear failed to converge, increase the number of iterations.\n",
            "  warnings.warn(\n"
          ]
        },
        {
          "output_type": "stream",
          "name": "stdout",
          "text": [
            "Training Classifier...\n"
          ]
        },
        {
          "output_type": "stream",
          "name": "stderr",
          "text": [
            "/usr/local/lib/python3.10/dist-packages/sklearn/svm/_base.py:1244: ConvergenceWarning: Liblinear failed to converge, increase the number of iterations.\n",
            "  warnings.warn(\n"
          ]
        },
        {
          "output_type": "stream",
          "name": "stdout",
          "text": [
            "Training Classifier...\n"
          ]
        },
        {
          "output_type": "stream",
          "name": "stderr",
          "text": [
            "/usr/local/lib/python3.10/dist-packages/sklearn/svm/_base.py:1244: ConvergenceWarning: Liblinear failed to converge, increase the number of iterations.\n",
            "  warnings.warn(\n"
          ]
        },
        {
          "output_type": "stream",
          "name": "stdout",
          "text": [
            "Training Classifier...\n"
          ]
        },
        {
          "output_type": "stream",
          "name": "stderr",
          "text": [
            "/usr/local/lib/python3.10/dist-packages/sklearn/svm/_base.py:1244: ConvergenceWarning: Liblinear failed to converge, increase the number of iterations.\n",
            "  warnings.warn(\n"
          ]
        },
        {
          "output_type": "stream",
          "name": "stdout",
          "text": [
            "Training Classifier...\n"
          ]
        },
        {
          "output_type": "stream",
          "name": "stderr",
          "text": [
            "/usr/local/lib/python3.10/dist-packages/sklearn/svm/_base.py:1244: ConvergenceWarning: Liblinear failed to converge, increase the number of iterations.\n",
            "  warnings.warn(\n"
          ]
        },
        {
          "output_type": "stream",
          "name": "stdout",
          "text": [
            "Training Classifier...\n"
          ]
        },
        {
          "output_type": "stream",
          "name": "stderr",
          "text": [
            "/usr/local/lib/python3.10/dist-packages/sklearn/svm/_base.py:1244: ConvergenceWarning: Liblinear failed to converge, increase the number of iterations.\n",
            "  warnings.warn(\n"
          ]
        },
        {
          "output_type": "display_data",
          "data": {
            "text/plain": [
              "[(0.7941169986513125, 0.794047619047619, 0.7940102445115602, 79.4047619047619),\n",
              " (1.0, 1.0, 1.0, 100.0),\n",
              " (1.0, 1.0, 1.0, 100.0),\n",
              " (1.0, 1.0, 1.0, 100.0),\n",
              " (1.0, 1.0, 1.0, 100.0),\n",
              " (1.0, 1.0, 1.0, 100.0),\n",
              " (1.0, 1.0, 1.0, 100.0),\n",
              " (1.0, 1.0, 1.0, 100.0),\n",
              " (1.0, 1.0, 1.0, 100.0),\n",
              " (1.0, 1.0, 1.0, 100.0)]"
            ]
          },
          "metadata": {}
        },
        {
          "output_type": "stream",
          "name": "stdout",
          "text": [
            "Done!\n"
          ]
        }
      ],
      "source": [
        "from sklearn import preprocessing\n",
        "# MAIN\n",
        "\n",
        "# loading reviews\n",
        "# initialize global lists that will be appended to by the methods below\n",
        "rawData = []          # the filtered data from the dataset file (should be 21000 samples)\n",
        "preprocessedData = []\n",
        "trainData = []        # the pre-processed training data as a percentage of the total dataset (currently 80%, or 16800 samples)\n",
        "testData = []         # the pre-processed test data as a percentage of the total dataset (currently 20%, or 4200 samples)\n",
        "\n",
        "# the output classes\n",
        "fakeLabel = 'fake'\n",
        "realLabel = 'real'\n",
        "\n",
        "# references to the data files\n",
        "reviewPath = 'amazon_reviews.txt'\n",
        "\n",
        "# Do the actual stuff (i.e. call the functions we've made)\n",
        "# We parse the dataset and put it in a raw data list\n",
        "print(\"Now %d rawData, %d trainData, %d testData\" % (len(rawData), len(trainData), len(testData)),\n",
        "      \"Preparing the dataset...\",sep='\\n')\n",
        "loadData(reviewPath)\n",
        "\n",
        "# We split the raw dataset into a set of training data and a set of test data (80/20)\n",
        "# You do the cross validation on the 80% (training data)\n",
        "# We print the number of training samples and the number of features before the split\n",
        "print(\"Now %d rawData, %d trainData, %d testData\" % (len(rawData), len(trainData), len(testData)),\n",
        "      \"Preparing training and test data...\",sep='\\n')\n",
        "splitData(0.8)\n",
        "# We print the number of training samples and the number of features after the split\n",
        "print(\"After split, %d rawData, %d trainData, %d testData\" % (len(rawData), len(trainData), len(testData)),\n",
        "      \"Training Samples: \", len(trainData), \"Features: \", len(featureDict), sep='\\n')\n",
        "cvResults = crossValidate(trainData, 10)\n",
        "display(cvResults)\n",
        "\n",
        "print(\"Done!\")\n",
        "# QUESTION 3 - Make sure there is a function call here to the\n",
        "# crossValidate function on the training set to get your results\n"
      ]
    },
    {
      "cell_type": "markdown",
      "metadata": {
        "id": "EL3K4p8jnztS"
      },
      "source": [
        "# Evaluate on test set"
      ]
    },
    {
      "cell_type": "code",
      "execution_count": 12,
      "metadata": {
        "colab": {
          "base_uri": "https://localhost:8080/"
        },
        "id": "fAdl-urinztS",
        "outputId": "9bc9bd0b-3ab1-4c20-e589-efc2d1b9803c"
      },
      "outputs": [
        {
          "output_type": "stream",
          "name": "stdout",
          "text": [
            "({'thi': 1, 'assort': 1, 'realli': 1, \"hershey'\": 1, 'best.': 1, 'the': 1, 'littl': 1, 'one': 1, 'alway': 1, 'excit': 1, 'whenev': 1, 'holiday': 1, 'come': 1, 'this.': 1, 'rating': 5, 'verified': 0, 'B004B9T82W': 1}, 'fake')\n",
            "Training Classifier...\n",
            "Done training!\n",
            "Precision: 0.780119\n",
            "Recall: 0.779762\n",
            "F Score:0.779692\n"
          ]
        }
      ],
      "source": [
        "# Finally, check the accuracy of your classifier by training on all the traning data\n",
        "# and testing on the test set\n",
        "# Will only work once all functions are complete\n",
        "functions_complete = True  # set to True once you're happy with your methods for cross val\n",
        "if functions_complete:\n",
        "    print(testData[0])   # have a look at the first test data instance\n",
        "    classifier = trainClassifier(trainData)  # train the classifier\n",
        "    testTrue = [t[1] for t in testData]   # get the ground-truth labels from the data\n",
        "    testPred = predictLabels(testData, classifier)  # classify the test data to get predicted labels\n",
        "    finalScores = precision_recall_fscore_support(testTrue, testPred, average='weighted') # evaluate\n",
        "    print(\"Done training!\")\n",
        "    print(\"Precision: %f\\nRecall: %f\\nF Score:%f\" % finalScores[:3])"
      ]
    },
    {
      "cell_type": "markdown",
      "metadata": {
        "id": "QI8vVO7TnztT"
      },
      "source": [
        "# Questions 4 and 5\n",
        "Once you're happy with your functions for Questions 1 to 3, it's advisable you make a copy of this notebook to make a new notebook, and then within it adapt and improve all three functions in the ways asked for in questions 4 and 5.\n"
      ]
    },
    {
      "cell_type": "code",
      "source": [],
      "metadata": {
        "id": "iFYKuW-lXFy0"
      },
      "execution_count": 12,
      "outputs": []
    }
  ]
}