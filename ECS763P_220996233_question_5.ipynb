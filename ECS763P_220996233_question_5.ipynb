{
  "cells": [
    {
      "cell_type": "code",
      "execution_count": null,
      "metadata": {
        "id": "3BrvQ8v1nztO"
      },
      "outputs": [],
      "source": [
        "import csv                               # csv reader\n",
        "from sklearn.svm import LinearSVC\n",
        "from nltk.classify import SklearnClassifier\n",
        "from nltk.stem.porter import PorterStemmer\n",
        "from nltk.stem import WordNetLemmatizer\n",
        "from IPython.display import display\n",
        "from nltk.corpus import stopwords\n",
        "from random import shuffle\n",
        "from sklearn.pipeline import Pipeline\n",
        "from sklearn.metrics import precision_recall_fscore_support, accuracy_score\n",
        "from collections import Counter\n",
        "import numpy\n",
        "import string"
      ]
    },
    {
      "cell_type": "code",
      "execution_count": null,
      "metadata": {
        "id": "vN0tdy3-nztP"
      },
      "outputs": [],
      "source": [
        "# load data from a file and append it to the rawData\n",
        "def loadData(path, Text=None):\n",
        "    with open(path, encoding=\"utf8\") as f:\n",
        "        reader = csv.reader(f, delimiter='\\t')\n",
        "        next(reader, None)\n",
        "        for line in reader:\n",
        "            (Id, Text, Rating, Verified, ProductID, Label) = parseReview(line)\n",
        "            rawData.append((Id, Text, Rating, Verified, ProductID, Label))\n",
        "            preprocessedData.append((Id, preProcess(Text, Rating, Verified, ProductID), Label))\n",
        "\n",
        "def splitData(percentage):\n",
        "    dataSamples = len(rawData)\n",
        "    halfOfData = int(len(rawData)/2)\n",
        "    trainingSamples = int((percentage*dataSamples)/2)\n",
        "    for (_, Text, Rating, Verified, ProductID, Label) in rawData[:trainingSamples] + rawData[halfOfData:halfOfData+trainingSamples]:\n",
        "        trainData.append((toFeatureVector(preProcess(Text, Rating, Verified, ProductID)),Label))\n",
        "    for (_, Text, Rating, Verified, ProductID, Label) in rawData[trainingSamples:halfOfData] + rawData[halfOfData+trainingSamples:]:\n",
        "        testData.append((toFeatureVector(preProcess(Text, Rating, Verified, ProductID)),Label))"
      ]
    },
    {
      "cell_type": "markdown",
      "metadata": {
        "id": "c4Awr0vQnztQ"
      },
      "source": [
        "# Question 1"
      ]
    },
    {
      "cell_type": "code",
      "execution_count": null,
      "metadata": {
        "id": "uTKlFv4ynztQ"
      },
      "outputs": [],
      "source": [
        "# Convert line from input file into an id/text/label tuple\n",
        "def parseReview(reviewLine):\n",
        "  ID = 0\n",
        "  TEXT = 8\n",
        "  LABEL = 1\n",
        "  RATING = 2\n",
        "  VERIFIED_PURCHASE = 3\n",
        "  PRODUCT_ID = 5\n",
        "  tuple = (int(reviewLine[ID]), reviewLine[TEXT], int(reviewLine[RATING]), True if reviewLine[VERIFIED_PURCHASE] == 'Y' else False, reviewLine[PRODUCT_ID], fakeLabel if reviewLine[LABEL]=='__label1__' else realLabel)\n",
        "  return tuple\n",
        "    # Should return a triple of an integer, a string containing the review, and a string indicating the label\n",
        "    # DESCRIBE YOUR METHOD IN WORDS\n",
        "    # return (None, None, None)"
      ]
    },
    {
      "cell_type": "code",
      "execution_count": null,
      "metadata": {
        "id": "L9o_JM88nztR"
      },
      "outputs": [],
      "source": [
        "# TEXT PREPROCESSING AND FEATURE VECTORIZATION\n",
        "\n",
        "# Input: a string of one review\n",
        "def preProcess(text, rating, verified, product_id):\n",
        "    # Should return a list of tokens\n",
        "    tokens = text.split(\" \")\n",
        "\n",
        "    # Stemming and lemmatisation\n",
        "    porter_stemmer = PorterStemmer()\n",
        "    wordnet_lemmatizer = WordNetLemmatizer()\n",
        "\n",
        "\n",
        "    # Removing the stop word. You will need to run nltk.download(\"stopwords\") in python console.\n",
        "    stop_words = set(stopwords.words('english'))\n",
        "    tokens = [wordnet_lemmatizer.lemmatize(porter_stemmer.stem(w)) for w in tokens if w not in stop_words]\n",
        "    tokens = [w.translate(str.maketrans('', '', string.punctuation)) for w in tokens if w]\n",
        "    return (tokens, rating, verified, product_id)\n",
        "    # Should return a list of tokens\n",
        "    # DESCRIBE YOUR METHOD IN WORDS\n",
        "    # return []"
      ]
    },
    {
      "cell_type": "markdown",
      "metadata": {
        "id": "dtj0U6S9nztR"
      },
      "source": [
        "# Question 2"
      ]
    },
    {
      "cell_type": "code",
      "execution_count": null,
      "metadata": {
        "id": "onWAN4N0nztR"
      },
      "outputs": [],
      "source": [
        "featureDict = {} # A global dictionary of features\n",
        "\n",
        "def toFeatureVector(tokens):\n",
        "  featurevect = dict(Counter(tokens[0]))\n",
        "  featurevect['rating'] = tokens[1]\n",
        "  featurevect['verified'] = 1 if tokens[2] else 0\n",
        "  featurevect['productID'+tokens[3]] = 1\n",
        "  return featurevect\n",
        "    # Should return a dictionary containing features as keys, and weights as values\n",
        "    # DESCRIBE YOUR METHOD IN WORDS"
      ]
    },
    {
      "cell_type": "code",
      "execution_count": null,
      "metadata": {
        "id": "Jat5f7hunztR"
      },
      "outputs": [],
      "source": [
        "# TRAINING AND VALIDATING OUR CLASSIFIER\n",
        "def trainClassifier(trainData):\n",
        "    print(\"Training Classifier...\")\n",
        "    pipeline =  Pipeline([('svc', LinearSVC())])\n",
        "    return SklearnClassifier(pipeline).train(trainData)"
      ]
    },
    {
      "cell_type": "markdown",
      "metadata": {
        "id": "gOOMwGBAnztR"
      },
      "source": [
        "# Question 3"
      ]
    },
    {
      "cell_type": "code",
      "execution_count": null,
      "metadata": {
        "id": "j7jSXQqenztR"
      },
      "outputs": [],
      "source": [
        "def crossValidate(dataset, folds):\n",
        "    shuffle(dataset)\n",
        "    cv_results = []\n",
        "    foldSize = int(len(dataset)/folds)\n",
        "    # DESCRIBE YOUR METHOD IN WORDS\n",
        "    for i in range(0,len(dataset),foldSize):\n",
        "       testFold = dataset[i:i+foldSize] # This our fold used for testing.\n",
        "       trainingData = dataset[0:i] + dataset[foldSize:]\n",
        "       classifier = trainClassifier(trainingData)\n",
        "       y_pred = predictLabels(testFold, classifier)\n",
        "       y_true = list(map(lambda t: t[1], testFold))\n",
        "       results = list(precision_recall_fscore_support(y_true, y_pred, average='weighted'))\n",
        "       results[3] = accuracy_score(y_true, y_pred) * 100\n",
        "       cv_results.append(tuple(results))\n",
        "\n",
        "    return cv_results"
      ]
    },
    {
      "cell_type": "code",
      "execution_count": null,
      "metadata": {
        "id": "l_7o40sJnztR"
      },
      "outputs": [],
      "source": [
        "# PREDICTING LABELS GIVEN A CLASSIFIER\n",
        "\n",
        "def predictLabels(reviewSamples, classifier):\n",
        "    return classifier.classify_many(map(lambda t: t[0], reviewSamples))\n",
        "\n",
        "def predictLabel(reviewSample, classifier):\n",
        "    return classifier.classify(toFeatureVector(preProcess(reviewSample)))"
      ]
    },
    {
      "cell_type": "code",
      "source": [
        "import nltk\n",
        "nltk.download('stopwords')\n",
        "nltk.download('wordnet')"
      ],
      "metadata": {
        "colab": {
          "base_uri": "https://localhost:8080/"
        },
        "id": "fXa0VSQ7sbB3",
        "outputId": "7ce49929-ee49-4bd9-e13b-2e4d33100fc1"
      },
      "execution_count": null,
      "outputs": [
        {
          "output_type": "stream",
          "name": "stderr",
          "text": [
            "[nltk_data] Downloading package stopwords to /root/nltk_data...\n",
            "[nltk_data]   Unzipping corpora/stopwords.zip.\n",
            "[nltk_data] Downloading package wordnet to /root/nltk_data...\n"
          ]
        },
        {
          "output_type": "execute_result",
          "data": {
            "text/plain": [
              "True"
            ]
          },
          "metadata": {},
          "execution_count": 9
        }
      ]
    },
    {
      "cell_type": "code",
      "execution_count": null,
      "metadata": {
        "colab": {
          "base_uri": "https://localhost:8080/",
          "height": 937
        },
        "id": "IDjRgw6YnztS",
        "outputId": "abcf91e1-6b2d-4f69-c5d6-b18746af104a"
      },
      "outputs": [
        {
          "output_type": "stream",
          "name": "stdout",
          "text": [
            "Now 0 rawData, 0 trainData, 0 testData\n",
            "Preparing the dataset...\n",
            "Now 21000 rawData, 0 trainData, 0 testData\n",
            "Preparing training and test data...\n",
            "After split, 21000 rawData, 16800 trainData, 4200 testData\n",
            "Training Samples: \n",
            "16800\n",
            "Features: \n",
            "0\n",
            "Training Classifier...\n"
          ]
        },
        {
          "output_type": "stream",
          "name": "stderr",
          "text": [
            "/usr/local/lib/python3.10/dist-packages/sklearn/svm/_base.py:1244: ConvergenceWarning: Liblinear failed to converge, increase the number of iterations.\n",
            "  warnings.warn(\n"
          ]
        },
        {
          "output_type": "stream",
          "name": "stdout",
          "text": [
            "Training Classifier...\n"
          ]
        },
        {
          "output_type": "stream",
          "name": "stderr",
          "text": [
            "/usr/local/lib/python3.10/dist-packages/sklearn/svm/_base.py:1244: ConvergenceWarning: Liblinear failed to converge, increase the number of iterations.\n",
            "  warnings.warn(\n"
          ]
        },
        {
          "output_type": "stream",
          "name": "stdout",
          "text": [
            "Training Classifier...\n"
          ]
        },
        {
          "output_type": "stream",
          "name": "stderr",
          "text": [
            "/usr/local/lib/python3.10/dist-packages/sklearn/svm/_base.py:1244: ConvergenceWarning: Liblinear failed to converge, increase the number of iterations.\n",
            "  warnings.warn(\n"
          ]
        },
        {
          "output_type": "stream",
          "name": "stdout",
          "text": [
            "Training Classifier...\n"
          ]
        },
        {
          "output_type": "stream",
          "name": "stderr",
          "text": [
            "/usr/local/lib/python3.10/dist-packages/sklearn/svm/_base.py:1244: ConvergenceWarning: Liblinear failed to converge, increase the number of iterations.\n",
            "  warnings.warn(\n"
          ]
        },
        {
          "output_type": "stream",
          "name": "stdout",
          "text": [
            "Training Classifier...\n"
          ]
        },
        {
          "output_type": "stream",
          "name": "stderr",
          "text": [
            "/usr/local/lib/python3.10/dist-packages/sklearn/svm/_base.py:1244: ConvergenceWarning: Liblinear failed to converge, increase the number of iterations.\n",
            "  warnings.warn(\n"
          ]
        },
        {
          "output_type": "stream",
          "name": "stdout",
          "text": [
            "Training Classifier...\n"
          ]
        },
        {
          "output_type": "stream",
          "name": "stderr",
          "text": [
            "/usr/local/lib/python3.10/dist-packages/sklearn/svm/_base.py:1244: ConvergenceWarning: Liblinear failed to converge, increase the number of iterations.\n",
            "  warnings.warn(\n"
          ]
        },
        {
          "output_type": "stream",
          "name": "stdout",
          "text": [
            "Training Classifier...\n"
          ]
        },
        {
          "output_type": "stream",
          "name": "stderr",
          "text": [
            "/usr/local/lib/python3.10/dist-packages/sklearn/svm/_base.py:1244: ConvergenceWarning: Liblinear failed to converge, increase the number of iterations.\n",
            "  warnings.warn(\n"
          ]
        },
        {
          "output_type": "stream",
          "name": "stdout",
          "text": [
            "Training Classifier...\n"
          ]
        },
        {
          "output_type": "stream",
          "name": "stderr",
          "text": [
            "/usr/local/lib/python3.10/dist-packages/sklearn/svm/_base.py:1244: ConvergenceWarning: Liblinear failed to converge, increase the number of iterations.\n",
            "  warnings.warn(\n"
          ]
        },
        {
          "output_type": "stream",
          "name": "stdout",
          "text": [
            "Training Classifier...\n"
          ]
        },
        {
          "output_type": "stream",
          "name": "stderr",
          "text": [
            "/usr/local/lib/python3.10/dist-packages/sklearn/svm/_base.py:1244: ConvergenceWarning: Liblinear failed to converge, increase the number of iterations.\n",
            "  warnings.warn(\n"
          ]
        },
        {
          "output_type": "stream",
          "name": "stdout",
          "text": [
            "Training Classifier...\n"
          ]
        },
        {
          "output_type": "stream",
          "name": "stderr",
          "text": [
            "/usr/local/lib/python3.10/dist-packages/sklearn/svm/_base.py:1244: ConvergenceWarning: Liblinear failed to converge, increase the number of iterations.\n",
            "  warnings.warn(\n"
          ]
        },
        {
          "output_type": "display_data",
          "data": {
            "text/plain": [
              "[(0.7780159293051595,\n",
              "  0.7773809523809524,\n",
              "  0.7773411962187473,\n",
              "  77.73809523809524),\n",
              " (1.0, 1.0, 1.0, 100.0),\n",
              " (1.0, 1.0, 1.0, 100.0),\n",
              " (1.0, 1.0, 1.0, 100.0),\n",
              " (1.0, 1.0, 1.0, 100.0),\n",
              " (1.0, 1.0, 1.0, 100.0),\n",
              " (1.0, 1.0, 1.0, 100.0),\n",
              " (1.0, 1.0, 1.0, 100.0),\n",
              " (1.0, 1.0, 1.0, 100.0),\n",
              " (1.0, 1.0, 1.0, 100.0)]"
            ]
          },
          "metadata": {}
        },
        {
          "output_type": "stream",
          "name": "stdout",
          "text": [
            "Done!\n"
          ]
        }
      ],
      "source": [
        "from sklearn import preprocessing\n",
        "# MAIN\n",
        "\n",
        "# loading reviews\n",
        "# initialize global lists that will be appended to by the methods below\n",
        "rawData = []          # the filtered data from the dataset file (should be 21000 samples)\n",
        "preprocessedData = []\n",
        "trainData = []        # the pre-processed training data as a percentage of the total dataset (currently 80%, or 16800 samples)\n",
        "testData = []         # the pre-processed test data as a percentage of the total dataset (currently 20%, or 4200 samples)\n",
        "\n",
        "# the output classes\n",
        "fakeLabel = 'fake'\n",
        "realLabel = 'real'\n",
        "\n",
        "# references to the data files\n",
        "reviewPath = 'amazon_reviews.txt'\n",
        "\n",
        "# Do the actual stuff (i.e. call the functions we've made)\n",
        "# We parse the dataset and put it in a raw data list\n",
        "print(\"Now %d rawData, %d trainData, %d testData\" % (len(rawData), len(trainData), len(testData)),\n",
        "      \"Preparing the dataset...\",sep='\\n')\n",
        "loadData(reviewPath)\n",
        "\n",
        "# We split the raw dataset into a set of training data and a set of test data (80/20)\n",
        "# You do the cross validation on the 80% (training data)\n",
        "# We print the number of training samples and the number of features before the split\n",
        "print(\"Now %d rawData, %d trainData, %d testData\" % (len(rawData), len(trainData), len(testData)),\n",
        "      \"Preparing training and test data...\",sep='\\n')\n",
        "splitData(0.8)\n",
        "# We print the number of training samples and the number of features after the split\n",
        "print(\"After split, %d rawData, %d trainData, %d testData\" % (len(rawData), len(trainData), len(testData)),\n",
        "      \"Training Samples: \", len(trainData), \"Features: \", len(featureDict), sep='\\n')\n",
        "cvResults = crossValidate(trainData, 10)\n",
        "display(cvResults)\n",
        "\n",
        "print(\"Done!\")\n",
        "# QUESTION 3 - Make sure there is a function call here to the\n",
        "# crossValidate function on the training set to get your results\n"
      ]
    },
    {
      "cell_type": "markdown",
      "metadata": {
        "id": "EL3K4p8jnztS"
      },
      "source": [
        "# Evaluate on test set"
      ]
    },
    {
      "cell_type": "code",
      "execution_count": null,
      "metadata": {
        "colab": {
          "base_uri": "https://localhost:8080/"
        },
        "id": "fAdl-urinztS",
        "outputId": "3325649f-aeff-4bb8-b969-7ae34e0dca0f"
      },
      "outputs": [
        {
          "output_type": "stream",
          "name": "stdout",
          "text": [
            "({'thi': 1, 'assort': 1, 'realli': 1, 'hershey': 1, 'best': 1, 'the': 1, 'littl': 1, 'one': 1, 'alway': 1, 'excit': 1, 'whenev': 1, 'holiday': 1, 'come': 1, 'this': 1, 'rating': 5, 'verified': 0, 'productIDB004B9T82W': 1}, 'fake')\n",
            "Training Classifier...\n"
          ]
        },
        {
          "output_type": "stream",
          "name": "stderr",
          "text": [
            "/usr/local/lib/python3.10/dist-packages/sklearn/svm/_base.py:1244: ConvergenceWarning: Liblinear failed to converge, increase the number of iterations.\n",
            "  warnings.warn(\n"
          ]
        },
        {
          "output_type": "stream",
          "name": "stdout",
          "text": [
            "Done training!\n",
            "Precision: 0.766247\n",
            "Recall: 0.765476\n",
            "F Score:0.765306\n"
          ]
        }
      ],
      "source": [
        "# Finally, check the accuracy of your classifier by training on all the traning data\n",
        "# and testing on the test set\n",
        "# Will only work once all functions are complete\n",
        "functions_complete = True  # set to True once you're happy with your methods for cross val\n",
        "if functions_complete:\n",
        "    print(testData[0])   # have a look at the first test data instance\n",
        "    classifier = trainClassifier(trainData)  # train the classifier\n",
        "    testTrue = [t[1] for t in testData]   # get the ground-truth labels from the data\n",
        "    testPred = predictLabels(testData, classifier)  # classify the test data to get predicted labels\n",
        "    finalScores = precision_recall_fscore_support(testTrue, testPred, average='weighted') # evaluate\n",
        "    print(\"Done training!\")\n",
        "    print(\"Precision: %f\\nRecall: %f\\nF Score:%f\" % finalScores[:3])"
      ]
    },
    {
      "cell_type": "markdown",
      "metadata": {
        "id": "QI8vVO7TnztT"
      },
      "source": [
        "# Questions 5\n",
        "Key changes:\n",
        "\n",
        "* Preprocessing of reviews has been altered to ensure proper tokenisation, stemming, and lemmatisation.\n",
        "* The toFeatureVector function was altered to include rating, verified purchase status, and product ID.\n",
        "* Added prefixes in the toFeatureVector function for differentiation between product IDs and other tokens. This will make the feature space more explicit and less prone to overlaps."
      ]
    }
  ],
  "metadata": {
    "kernelspec": {
      "display_name": "Python 3",
      "language": "python",
      "name": "python3"
    },
    "language_info": {
      "codemirror_mode": {
        "name": "ipython",
        "version": 3
      },
      "file_extension": ".py",
      "mimetype": "text/x-python",
      "name": "python",
      "nbconvert_exporter": "python",
      "pygments_lexer": "ipython3",
      "version": "3.7.4"
    },
    "colab": {
      "provenance": []
    }
  },
  "nbformat": 4,
  "nbformat_minor": 0
}